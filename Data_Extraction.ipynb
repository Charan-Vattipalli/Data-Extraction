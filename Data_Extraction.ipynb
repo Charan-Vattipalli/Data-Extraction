{
 "cells": [
  {
   "cell_type": "code",
   "execution_count": 8,
   "id": "68addab9-04bc-4311-8e7e-a2f5e6288b9d",
   "metadata": {},
   "outputs": [
    {
     "name": "stdout",
     "output_type": "stream",
     "text": [
      "Collecting PyMuPDF\n",
      "  Using cached pymupdf-1.26.1-cp39-abi3-win_amd64.whl.metadata (3.4 kB)\n",
      "Using cached pymupdf-1.26.1-cp39-abi3-win_amd64.whl (18.5 MB)\n",
      "Installing collected packages: PyMuPDF\n",
      "Successfully installed PyMuPDF-1.26.1\n"
     ]
    }
   ],
   "source": [
    "!pip install PyMuPDF\n"
   ]
  },
  {
   "cell_type": "code",
   "execution_count": 9,
   "id": "d29013ef-8e76-42a9-ae29-1225c67d6a97",
   "metadata": {},
   "outputs": [
    {
     "name": "stdout",
     "output_type": "stream",
     "text": [
      "PyMuPDF 1.26.1: Python bindings for the MuPDF 1.26.2 library (rebased implementation).\n",
      "Python 3.11 running on win32 (64-bit).\n",
      "\n"
     ]
    }
   ],
   "source": [
    "import fitz\n",
    "print(fitz.__doc__)"
   ]
  },
  {
   "cell_type": "code",
   "execution_count": 23,
   "id": "aca9de4c-1d72-4f9c-a243-e3821638306c",
   "metadata": {},
   "outputs": [
    {
     "name": "stdout",
     "output_type": "stream",
     "text": [
      "Extraction complete. Excel file saved as 'Extracted_Invoices.xlsx'\n"
     ]
    }
   ],
   "source": [
    "import fitz  # PyMuPDF\n",
    "import pandas as pd\n",
    "\n",
    "# Maping filename to readable name\n",
    "pdf_files = {\n",
    "    r\"C:\\Users\\Bobby\\Downloads\\invoices\\flipkart-bill_compress.pdf\": \"Flipkart Invoice 1\",\n",
    "    r\"C:\\Users\\Bobby\\Downloads\\invoices\\flipkart-invoice_compress.pdf\": \"Flipkart Invoice 2\",\n",
    "    r\"C:\\Users\\Bobby\\Downloads\\invoices\\iphone-15-pro-max-and-charger_compress.pdf\": \"Apple iPhone Invoice\",\n",
    "    r\"C:\\Users\\Bobby\\Downloads\\invoices\\samsung-galaxy_compress.pdf\": \"Amazon Samsung Invoice\"\n",
    "}\n",
    "\n",
    "# Extracted results\n",
    "invoice_data = []\n",
    "\n",
    "def extract_text_from_pdf(pdf_path):\n",
    "    doc = fitz.open(pdf_path)\n",
    "    return \"\\n\".join([page.get_text() for page in doc])\n",
    "\n",
    "def find_between(text, start, end):\n",
    "    try:\n",
    "        return text.split(start)[1].split(end)[0].strip()\n",
    "    except:\n",
    "        return \"\"\n",
    "\n",
    "# Iterating PDFs and extract data\n",
    "for filepath, label in pdf_files.items():\n",
    "    text = extract_text_from_pdf(filepath)\n",
    "\n",
    "    data = {\n",
    "        \"Source\": label,\n",
    "        \"Invoice Number\": \"\",\n",
    "        \"Invoice Date\": \"\",\n",
    "        \"Order Number\": \"\",\n",
    "        \"Order Date\": \"\",\n",
    "        \"Customer Name\": \"\",\n",
    "        \"Shipping Address\": \"\",\n",
    "        \"Billing Address\": \"\",\n",
    "        \"Product(s)\": \"\",\n",
    "        \"Total Amount\": \"\",\n",
    "        \"Tax Amount\": \"\"\n",
    "    }\n",
    "\n",
    "    if \"Flipkart\" in label:\n",
    "        data[\"Invoice Number\"] = find_between(text, \"Tax Invoice #\", \"\\n\")\n",
    "        data[\"Order Number\"] = find_between(text, \"Order ID:\", \"\\n\").split()[0]\n",
    "        data[\"Order Date\"] = find_between(text, \"Order Date:\", \"\\n\")\n",
    "        data[\"Invoice Date\"] = find_between(text, \"Invoice Date:\", \"\\n\")\n",
    "        data[\"Customer Name\"] = find_between(text, \"Shipping Address\", \"\\n\").split(\"\\n\")[0]\n",
    "        data[\"Shipping Address\"] = find_between(text, \"Shipping Address\", \"Billing Address\").strip()\n",
    "        data[\"Billing Address\"] = find_between(text, \"Billing Address\", \"Phone:\")\n",
    "        data[\"Product(s)\"] = \"\\n\".join([line.strip() for line in text.split(\"\\n\") if \"Smartwatch\" in line or \"Java\" in line])\n",
    "        data[\"Total Amount\"] = find_between(text, \"Grand Total\", \"\\n\").replace(\":\", \"\").strip()\n",
    "\n",
    "    elif \"Apple\" in label:\n",
    "        data[\"Invoice Number\"] = find_between(text, \"Invoice Number\", \"Invoice Date\")\n",
    "        data[\"Invoice Date\"] = find_between(text, \"Invoice Date\", \"Terms\").strip()\n",
    "        data[\"Order Number\"] = find_between(text, \"Order Number:\", \"Order Date\").strip()\n",
    "        data[\"Order Date\"] = find_between(text, \"Order Date:\", \"Sold To\").strip()\n",
    "        data[\"Customer Name\"] = find_between(text, \"Sold To:\", \"Location\").split(\"\\n\")[0]\n",
    "        data[\"Shipping Address\"] = find_between(text, \"Location:\", \"Customer No\").strip()\n",
    "        data[\"Product(s)\"] = \"\\n\".join([line for line in text.split(\"\\n\") if \"IPHONE\" in line or \"ADAPTER\" in line])\n",
    "        data[\"Total Amount\"] = find_between(text, \"Total\", \"Amount Due\").strip()\n",
    "        data[\"Tax Amount\"] = find_between(text, \"Sales Tax\", \"Total\").strip()\n",
    "\n",
    "    elif \"Amazon\" in label:\n",
    "        data[\"Invoice Number\"] = find_between(text, \"Invoice Number :\", \"Order Date\").strip()\n",
    "        data[\"Order Number\"] = find_between(text, \"Order Number:\", \"Invoice Number\").strip()\n",
    "        data[\"Order Date\"] = find_between(text, \"Order Date:\", \"Invoice Details\").strip()\n",
    "        data[\"Invoice Date\"] = find_between(text, \"Invoice Date :\", \"Sl.\").strip()\n",
    "        data[\"Customer Name\"] = find_between(text, \"Billing Address :\", \"Shipping Address\").split(\"\\n\")[0]\n",
    "        data[\"Shipping Address\"] = find_between(text, \"Shipping Address :\", \"IN\").strip()\n",
    "        data[\"Product(s)\"] = \"\\n\".join([line for line in text.split(\"\\n\") if \"Samsung Galaxy\" in line])\n",
    "        data[\"Total Amount\"] = find_between(text, \"TOTAL:\", \"Amount in Words\").split()[-1]\n",
    "        data[\"Tax Amount\"] = find_between(text, \"IGST\", \"₹27\").split()[-1]\n",
    "\n",
    "    invoice_data.append(data)\n",
    "\n",
    "# Exporting to Excel\n",
    "df = pd.DataFrame(invoice_data)\n",
    "df.to_excel(r\"C:\\Users\\Bobby\\Downloads\\extracted_invoices.xlsx\", index=False)\n",
    "\n",
    "print(\"Extraction complete. Excel file saved as 'Extracted_Invoices.xlsx'\")\n"
   ]
  },
  {
   "cell_type": "code",
   "execution_count": null,
   "id": "596b7c82-ae7e-43b4-9810-2407a895878d",
   "metadata": {},
   "outputs": [],
   "source": []
  },
  {
   "cell_type": "code",
   "execution_count": null,
   "id": "9092dc47-83f4-404f-8876-b1f619cae0f2",
   "metadata": {},
   "outputs": [],
   "source": []
  }
 ],
 "metadata": {
  "kernelspec": {
   "display_name": "Python 3 (ipykernel)",
   "language": "python",
   "name": "python3"
  },
  "language_info": {
   "codemirror_mode": {
    "name": "ipython",
    "version": 3
   },
   "file_extension": ".py",
   "mimetype": "text/x-python",
   "name": "python",
   "nbconvert_exporter": "python",
   "pygments_lexer": "ipython3",
   "version": "3.11.7"
  }
 },
 "nbformat": 4,
 "nbformat_minor": 5
}
